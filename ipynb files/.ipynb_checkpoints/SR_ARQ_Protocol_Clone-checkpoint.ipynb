{
 "cells": [
  {
   "cell_type": "code",
   "execution_count": 1,
   "id": "b1d81347-e02f-4885-acea-1e9c645493d6",
   "metadata": {
    "id": "b1d81347-e02f-4885-acea-1e9c645493d6"
   },
   "outputs": [],
   "source": [
    "import numpy as np\n"
   ]
  },
  {
   "cell_type": "code",
   "execution_count": 2,
   "id": "f3664fe4-11cf-4fed-b453-0ba77b07a49c",
   "metadata": {
    "id": "f3664fe4-11cf-4fed-b453-0ba77b07a49c"
   },
   "outputs": [],
   "source": [
    "def create_status(probOfNACK=0.1):\n",
    "    return np.random.rand() >= probOfNACK"
   ]
  },
  {
   "cell_type": "code",
   "execution_count": 3,
   "id": "448a2231-abe1-4c68-aef7-f4953d968126",
   "metadata": {
    "colab": {
     "base_uri": "https://localhost:8080/"
    },
    "id": "448a2231-abe1-4c68-aef7-f4953d968126",
    "outputId": "6994712d-0ba1-420e-f60c-80f002ac4efc"
   },
   "outputs": [
    {
     "data": {
      "text/plain": [
       "True"
      ]
     },
     "execution_count": 3,
     "metadata": {},
     "output_type": "execute_result"
    }
   ],
   "source": [
    "status= create_status()\n",
    "status"
   ]
  },
  {
   "cell_type": "markdown",
   "id": "pNm6wLL2MO69",
   "metadata": {
    "id": "pNm6wLL2MO69"
   },
   "source": [
    "# Function Version"
   ]
  },
  {
   "cell_type": "code",
   "execution_count": 4,
   "id": "a140d33a-be0e-4d98-beb9-548cf6b4b18f",
   "metadata": {
    "id": "a140d33a-be0e-4d98-beb9-548cf6b4b18f"
   },
   "outputs": [],
   "source": [
    "def SRARQ(windowSize=3, probOfNACK=0.1, packetCount=1000):\n",
    "    packets = list(range(packetCount, 0, -1))\n",
    "    print(\"Initial packets:\", packets)\n",
    "    window = [0,0,0]\n",
    "    while packets or window:\n",
    "        print(\"---\")\n",
    "        while len(window) < windowSize and packets:\n",
    "            packet = packets.pop()\n",
    "            window.append(packet)\n",
    "        print(\"Current window:\", window)\n",
    "\n",
    "        # Process the window and simulate ACK/NACK\n",
    "        for packet in window[:]:\n",
    "            if create_status(probOfNACK):\n",
    "                print(f\"ACK received for packet {packet}\")\n",
    "                window.remove(packet)\n",
    "            else:\n",
    "                print(f\"NACK received for packet {packet}, will retransmit\")\n",
    "\n",
    "        print(\"Packets after processing window:\", packets)\n",
    "        print(\"Window after processing:\", window)\n"
   ]
  },
  {
   "cell_type": "code",
   "execution_count": 5,
   "id": "eedaaab4-6531-4990-98b5-4d0b2ee4add8",
   "metadata": {
    "colab": {
     "base_uri": "https://localhost:8080/"
    },
    "id": "eedaaab4-6531-4990-98b5-4d0b2ee4add8",
    "outputId": "bfbb6010-912c-44e2-fbcd-d558e72dd863"
   },
   "outputs": [
    {
     "name": "stdout",
     "output_type": "stream",
     "text": [
      "Initial packets: [20, 19, 18, 17, 16, 15, 14, 13, 12, 11, 10, 9, 8, 7, 6, 5, 4, 3, 2, 1]\n",
      "---\n",
      "Current window: [0, 0, 0]\n",
      "ACK received for packet 0\n",
      "ACK received for packet 0\n",
      "ACK received for packet 0\n",
      "Packets after processing window: [20, 19, 18, 17, 16, 15, 14, 13, 12, 11, 10, 9, 8, 7, 6, 5, 4, 3, 2, 1]\n",
      "Window after processing: []\n",
      "---\n",
      "Current window: [1, 2, 3]\n",
      "ACK received for packet 1\n",
      "ACK received for packet 2\n",
      "ACK received for packet 3\n",
      "Packets after processing window: [20, 19, 18, 17, 16, 15, 14, 13, 12, 11, 10, 9, 8, 7, 6, 5, 4]\n",
      "Window after processing: []\n",
      "---\n",
      "Current window: [4, 5, 6]\n",
      "ACK received for packet 4\n",
      "ACK received for packet 5\n",
      "ACK received for packet 6\n",
      "Packets after processing window: [20, 19, 18, 17, 16, 15, 14, 13, 12, 11, 10, 9, 8, 7]\n",
      "Window after processing: []\n",
      "---\n",
      "Current window: [7, 8, 9]\n",
      "ACK received for packet 7\n",
      "ACK received for packet 8\n",
      "ACK received for packet 9\n",
      "Packets after processing window: [20, 19, 18, 17, 16, 15, 14, 13, 12, 11, 10]\n",
      "Window after processing: []\n",
      "---\n",
      "Current window: [10, 11, 12]\n",
      "ACK received for packet 10\n",
      "ACK received for packet 11\n",
      "ACK received for packet 12\n",
      "Packets after processing window: [20, 19, 18, 17, 16, 15, 14, 13]\n",
      "Window after processing: []\n",
      "---\n",
      "Current window: [13, 14, 15]\n",
      "ACK received for packet 13\n",
      "ACK received for packet 14\n",
      "ACK received for packet 15\n",
      "Packets after processing window: [20, 19, 18, 17, 16]\n",
      "Window after processing: []\n",
      "---\n",
      "Current window: [16, 17, 18]\n",
      "ACK received for packet 16\n",
      "ACK received for packet 17\n",
      "ACK received for packet 18\n",
      "Packets after processing window: [20, 19]\n",
      "Window after processing: []\n",
      "---\n",
      "Current window: [19, 20]\n",
      "ACK received for packet 19\n",
      "ACK received for packet 20\n",
      "Packets after processing window: []\n",
      "Window after processing: []\n"
     ]
    }
   ],
   "source": [
    "SRARQ(packetCount= 20,probOfNACK=0.1)"
   ]
  },
  {
   "cell_type": "markdown",
   "id": "nt2NQwsoMUnM",
   "metadata": {
    "id": "nt2NQwsoMUnM"
   },
   "source": [
    "# Object Version"
   ]
  },
  {
   "cell_type": "code",
   "execution_count": 12,
   "id": "f17dc6a0-c9a9-4736-b3e7-d14628ecf18b",
   "metadata": {
    "id": "f17dc6a0-c9a9-4736-b3e7-d14628ecf18b"
   },
   "outputs": [],
   "source": [
    "import random\n",
    "\n",
    "class obj_SRARQ:\n",
    "    def __init__(self, windowSize=3, probOfNACK=0.1, packetCount=1000):\n",
    "        self.windowSize = windowSize\n",
    "        self.probOfNACK = probOfNACK\n",
    "        self.packetCount = packetCount\n",
    "        self.packets = list(range(packetCount, 0, -1))\n",
    "        self.window = []\n",
    "\n",
    "    def create_status(self):\n",
    "        return random.random() > self.probOfNACK\n",
    "\n",
    "    def process_window(self):\n",
    "        while self.packets or self.window:\n",
    "            print(\"---\")\n",
    "            while len(self.window) < self.windowSize and self.packets:\n",
    "                packet = self.packets.pop()\n",
    "                self.window.append(packet)\n",
    "            print(\"Current window:\", self.window)\n",
    "\n",
    "            # Process the window and simulate ACK/NACK\n",
    "            for packet in self.window[:]:\n",
    "                if create_status(self.probOfNACK):\n",
    "                    print(f\"ACK received for packet {packet}\")\n",
    "                    self.window.remove(packet)\n",
    "                else:\n",
    "                    print(f\"NACK received for packet {packet}, will retransmit\")\n",
    "\n",
    "            print(\"Packets after processing window:\", self.packets)\n",
    "            print(\"Window after processing:\", self.window)\n",
    "\n",
    "\n",
    "    def run(self):\n",
    "        print(\"Initial packets:\", self.packets)\n",
    "        self.process_window()\n",
    "\n"
   ]
  },
  {
   "cell_type": "code",
   "execution_count": null,
   "id": "d912a13e-3b46-4eb7-a51a-67b724d8f645",
   "metadata": {},
   "outputs": [],
   "source": []
  }
 ],
 "metadata": {
  "colab": {
   "provenance": []
  },
  "kernelspec": {
   "display_name": "Python 3 (ipykernel)",
   "language": "python",
   "name": "python3"
  },
  "language_info": {
   "codemirror_mode": {
    "name": "ipython",
    "version": 3
   },
   "file_extension": ".py",
   "mimetype": "text/x-python",
   "name": "python",
   "nbconvert_exporter": "python",
   "pygments_lexer": "ipython3",
   "version": "3.12.1"
  }
 },
 "nbformat": 4,
 "nbformat_minor": 5
}
