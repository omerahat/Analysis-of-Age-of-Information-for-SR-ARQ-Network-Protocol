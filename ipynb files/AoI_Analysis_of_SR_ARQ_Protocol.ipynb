{
 "cells": [
  {
   "cell_type": "code",
   "execution_count": 12,
   "id": "b1d81347-e02f-4885-acea-1e9c645493d6",
   "metadata": {
    "id": "b1d81347-e02f-4885-acea-1e9c645493d6"
   },
   "outputs": [],
   "source": [
    "import numpy as np\n",
    "import time\n"
   ]
  },
  {
   "cell_type": "code",
   "execution_count": 2,
   "id": "f3664fe4-11cf-4fed-b453-0ba77b07a49c",
   "metadata": {
    "id": "f3664fe4-11cf-4fed-b453-0ba77b07a49c"
   },
   "outputs": [],
   "source": [
    "def create_status(probOfNACK=0.1):\n",
    "    return np.random.rand() >= probOfNACK"
   ]
  },
  {
   "cell_type": "code",
   "execution_count": 3,
   "id": "448a2231-abe1-4c68-aef7-f4953d968126",
   "metadata": {
    "colab": {
     "base_uri": "https://localhost:8080/"
    },
    "id": "448a2231-abe1-4c68-aef7-f4953d968126",
    "outputId": "6994712d-0ba1-420e-f60c-80f002ac4efc",
    "scrolled": true
   },
   "outputs": [
    {
     "data": {
      "text/plain": [
       "True"
      ]
     },
     "execution_count": 3,
     "metadata": {},
     "output_type": "execute_result"
    }
   ],
   "source": [
    "status= create_status()\n",
    "status"
   ]
  },
  {
   "cell_type": "markdown",
   "id": "8bfd7d56-5441-4145-a457-823faa951598",
   "metadata": {},
   "source": [
    "aoi calculation"
   ]
  },
  {
   "cell_type": "code",
   "execution_count": 4,
   "id": "f6593b57-4cca-4554-90e7-edc51e56af1e",
   "metadata": {},
   "outputs": [],
   "source": [
    "def get_all_indexes(value, arr):\n",
    "    return [index for index, element in enumerate(arr) if element == value]"
   ]
  },
  {
   "cell_type": "code",
   "execution_count": 5,
   "id": "8593d7b7-eb55-48b0-ad29-d3efa524db31",
   "metadata": {},
   "outputs": [],
   "source": [
    "def calculte_AoI(windowSize,window):\n",
    "    v = max(window)\n",
    "    j0 = min(getAllIndexes(v,window))\n",
    "    j1 = max(getAllIndexes(v,window))\n",
    "    m = windowSize\n",
    "    if v > 0:\n",
    "        return m * (v-1) + j1 + 1\n",
    "    else:\n",
    "        return j0 - m * v"
   ]
  },
  {
   "cell_type": "code",
   "execution_count": 6,
   "id": "8f8c0cd5-6232-45e8-845b-02f06bd66d54",
   "metadata": {},
   "outputs": [],
   "source": [
    "def calculate_packet_AoI(packetNo,packetAoI,probOfNACK):\n",
    "    if create_status(probOfNACK):\n",
    "        print(f\"ACK received for packet {packetNo}\")\n",
    "        return packetAoI * -1\n",
    "    else:\n",
    "        print(f\"ACK received for packet {packetNo}\")\n",
    "        return packetAoI + 1 "
   ]
  },
  {
   "cell_type": "code",
   "execution_count": 7,
   "id": "72b04ab5-06e8-452f-884b-e06262c42d6c",
   "metadata": {},
   "outputs": [],
   "source": [
    "def calculate_window_AoI(window,windowSize,probOfNACK):\n",
    "    for packet in range(windowSize):\n",
    "        if create_status(probOfNACK):\n",
    "            return  window[packet] * -1,0\n",
    "        else: \n",
    "            return window[packet] + 1, "
   ]
  },
  {
   "cell_type": "code",
   "execution_count": 13,
   "id": "2f8d40d9-8b6c-49f9-84f5-93d915c846a1",
   "metadata": {},
   "outputs": [],
   "source": [
    "\n",
    "def AoI_of_SRARQ(windowSize=3, probOfNACK=0.1, packetCount=1000):\n",
    "     packets = list(range(packetCount, 0, -1))  # creating mock packets\n",
    "     window = [0] * windowSize  # creating a window\n",
    "     AoI = []  # aoi for storing every step\n",
    "     AoI_ind = {i: 0 for i in range(1, packetCount + 1)}  # Initialize AoI for each packet\n",
    "\n",
    "     while packets or any(window):\n",
    "          AoI_temp = []\n",
    "\n",
    "          # Load new packets into the window if slots are free\n",
    "          for index in range(windowSize):\n",
    "               if window[index] == 0 and packets:\n",
    "                    window[index] = packets.pop()\n",
    "\n",
    "          print(\"Window after loading packets:\", window)\n",
    "\n",
    "          # Process the packets in the window\n",
    "          for index in range(windowSize):\n",
    "               if window[index] > 0:\n",
    "                    if create_status(probOfNACK):\n",
    "                         print(f\"ACK received for packet {window[index]}\")\n",
    "                         AoI_ind[window[index]] *= -1  # Packet successfully acknowledged\n",
    "                         AoI_temp.append(AoI_ind.get(window[index]))\n",
    "                         window[index] = 0  # Clear the slot\n",
    "                    else:\n",
    "                         print(f\"NACK received for packet {window[index]}\")\n",
    "                         AoI_ind[window[index]] += 1  # Increase AoI since NACK received\n",
    "                         AoI_temp.append(AoI_ind.get(window[index]))\n",
    "\n",
    "                    print(AoI_ind)\n",
    "\n",
    "\n",
    "          AoI.append(AoI_temp)\n",
    "     return AoI"
   ]
  },
  {
   "cell_type": "code",
   "execution_count": 14,
   "id": "be64caec-1061-4c8d-b171-f9318df4ea39",
   "metadata": {},
   "outputs": [
    {
     "name": "stdout",
     "output_type": "stream",
     "text": [
      "Window after loading packets: [1, 2, 3]\n",
      "ACK received for packet 1\n",
      "{1: 0, 2: 0, 3: 0, 4: 0, 5: 0, 6: 0, 7: 0, 8: 0, 9: 0, 10: 0, 11: 0, 12: 0, 13: 0, 14: 0, 15: 0, 16: 0, 17: 0, 18: 0, 19: 0, 20: 0}\n",
      "ACK received for packet 2\n",
      "{1: 0, 2: 0, 3: 0, 4: 0, 5: 0, 6: 0, 7: 0, 8: 0, 9: 0, 10: 0, 11: 0, 12: 0, 13: 0, 14: 0, 15: 0, 16: 0, 17: 0, 18: 0, 19: 0, 20: 0}\n",
      "ACK received for packet 3\n",
      "{1: 0, 2: 0, 3: 0, 4: 0, 5: 0, 6: 0, 7: 0, 8: 0, 9: 0, 10: 0, 11: 0, 12: 0, 13: 0, 14: 0, 15: 0, 16: 0, 17: 0, 18: 0, 19: 0, 20: 0}\n",
      "Window after loading packets: [4, 5, 6]\n",
      "NACK received for packet 4\n",
      "{1: 0, 2: 0, 3: 0, 4: 1, 5: 0, 6: 0, 7: 0, 8: 0, 9: 0, 10: 0, 11: 0, 12: 0, 13: 0, 14: 0, 15: 0, 16: 0, 17: 0, 18: 0, 19: 0, 20: 0}\n",
      "ACK received for packet 5\n",
      "{1: 0, 2: 0, 3: 0, 4: 1, 5: 0, 6: 0, 7: 0, 8: 0, 9: 0, 10: 0, 11: 0, 12: 0, 13: 0, 14: 0, 15: 0, 16: 0, 17: 0, 18: 0, 19: 0, 20: 0}\n",
      "ACK received for packet 6\n",
      "{1: 0, 2: 0, 3: 0, 4: 1, 5: 0, 6: 0, 7: 0, 8: 0, 9: 0, 10: 0, 11: 0, 12: 0, 13: 0, 14: 0, 15: 0, 16: 0, 17: 0, 18: 0, 19: 0, 20: 0}\n",
      "Window after loading packets: [4, 7, 8]\n",
      "ACK received for packet 4\n",
      "{1: 0, 2: 0, 3: 0, 4: -1, 5: 0, 6: 0, 7: 0, 8: 0, 9: 0, 10: 0, 11: 0, 12: 0, 13: 0, 14: 0, 15: 0, 16: 0, 17: 0, 18: 0, 19: 0, 20: 0}\n",
      "ACK received for packet 7\n",
      "{1: 0, 2: 0, 3: 0, 4: -1, 5: 0, 6: 0, 7: 0, 8: 0, 9: 0, 10: 0, 11: 0, 12: 0, 13: 0, 14: 0, 15: 0, 16: 0, 17: 0, 18: 0, 19: 0, 20: 0}\n",
      "ACK received for packet 8\n",
      "{1: 0, 2: 0, 3: 0, 4: -1, 5: 0, 6: 0, 7: 0, 8: 0, 9: 0, 10: 0, 11: 0, 12: 0, 13: 0, 14: 0, 15: 0, 16: 0, 17: 0, 18: 0, 19: 0, 20: 0}\n",
      "Window after loading packets: [9, 10, 11]\n",
      "ACK received for packet 9\n",
      "{1: 0, 2: 0, 3: 0, 4: -1, 5: 0, 6: 0, 7: 0, 8: 0, 9: 0, 10: 0, 11: 0, 12: 0, 13: 0, 14: 0, 15: 0, 16: 0, 17: 0, 18: 0, 19: 0, 20: 0}\n",
      "ACK received for packet 10\n",
      "{1: 0, 2: 0, 3: 0, 4: -1, 5: 0, 6: 0, 7: 0, 8: 0, 9: 0, 10: 0, 11: 0, 12: 0, 13: 0, 14: 0, 15: 0, 16: 0, 17: 0, 18: 0, 19: 0, 20: 0}\n",
      "ACK received for packet 11\n",
      "{1: 0, 2: 0, 3: 0, 4: -1, 5: 0, 6: 0, 7: 0, 8: 0, 9: 0, 10: 0, 11: 0, 12: 0, 13: 0, 14: 0, 15: 0, 16: 0, 17: 0, 18: 0, 19: 0, 20: 0}\n",
      "Window after loading packets: [12, 13, 14]\n",
      "ACK received for packet 12\n",
      "{1: 0, 2: 0, 3: 0, 4: -1, 5: 0, 6: 0, 7: 0, 8: 0, 9: 0, 10: 0, 11: 0, 12: 0, 13: 0, 14: 0, 15: 0, 16: 0, 17: 0, 18: 0, 19: 0, 20: 0}\n",
      "NACK received for packet 13\n",
      "{1: 0, 2: 0, 3: 0, 4: -1, 5: 0, 6: 0, 7: 0, 8: 0, 9: 0, 10: 0, 11: 0, 12: 0, 13: 1, 14: 0, 15: 0, 16: 0, 17: 0, 18: 0, 19: 0, 20: 0}\n",
      "ACK received for packet 14\n",
      "{1: 0, 2: 0, 3: 0, 4: -1, 5: 0, 6: 0, 7: 0, 8: 0, 9: 0, 10: 0, 11: 0, 12: 0, 13: 1, 14: 0, 15: 0, 16: 0, 17: 0, 18: 0, 19: 0, 20: 0}\n",
      "Window after loading packets: [15, 13, 16]\n",
      "ACK received for packet 15\n",
      "{1: 0, 2: 0, 3: 0, 4: -1, 5: 0, 6: 0, 7: 0, 8: 0, 9: 0, 10: 0, 11: 0, 12: 0, 13: 1, 14: 0, 15: 0, 16: 0, 17: 0, 18: 0, 19: 0, 20: 0}\n",
      "ACK received for packet 13\n",
      "{1: 0, 2: 0, 3: 0, 4: -1, 5: 0, 6: 0, 7: 0, 8: 0, 9: 0, 10: 0, 11: 0, 12: 0, 13: -1, 14: 0, 15: 0, 16: 0, 17: 0, 18: 0, 19: 0, 20: 0}\n",
      "ACK received for packet 16\n",
      "{1: 0, 2: 0, 3: 0, 4: -1, 5: 0, 6: 0, 7: 0, 8: 0, 9: 0, 10: 0, 11: 0, 12: 0, 13: -1, 14: 0, 15: 0, 16: 0, 17: 0, 18: 0, 19: 0, 20: 0}\n",
      "Window after loading packets: [17, 18, 19]\n",
      "ACK received for packet 17\n",
      "{1: 0, 2: 0, 3: 0, 4: -1, 5: 0, 6: 0, 7: 0, 8: 0, 9: 0, 10: 0, 11: 0, 12: 0, 13: -1, 14: 0, 15: 0, 16: 0, 17: 0, 18: 0, 19: 0, 20: 0}\n",
      "ACK received for packet 18\n",
      "{1: 0, 2: 0, 3: 0, 4: -1, 5: 0, 6: 0, 7: 0, 8: 0, 9: 0, 10: 0, 11: 0, 12: 0, 13: -1, 14: 0, 15: 0, 16: 0, 17: 0, 18: 0, 19: 0, 20: 0}\n",
      "ACK received for packet 19\n",
      "{1: 0, 2: 0, 3: 0, 4: -1, 5: 0, 6: 0, 7: 0, 8: 0, 9: 0, 10: 0, 11: 0, 12: 0, 13: -1, 14: 0, 15: 0, 16: 0, 17: 0, 18: 0, 19: 0, 20: 0}\n",
      "Window after loading packets: [20, 0, 0]\n",
      "ACK received for packet 20\n",
      "{1: 0, 2: 0, 3: 0, 4: -1, 5: 0, 6: 0, 7: 0, 8: 0, 9: 0, 10: 0, 11: 0, 12: 0, 13: -1, 14: 0, 15: 0, 16: 0, 17: 0, 18: 0, 19: 0, 20: 0}\n"
     ]
    },
    {
     "data": {
      "text/plain": [
       "[[0, 0, 0],\n",
       " [1, 0, 0],\n",
       " [-1, 0, 0],\n",
       " [0, 0, 0],\n",
       " [0, 1, 0],\n",
       " [0, -1, 0],\n",
       " [0, 0, 0],\n",
       " [0]]"
      ]
     },
     "execution_count": 14,
     "metadata": {},
     "output_type": "execute_result"
    }
   ],
   "source": [
    "AoI_of_SRARQ(packetCount= 20)"
   ]
  },
  {
   "cell_type": "code",
   "execution_count": null,
   "id": "fbc6d409-5156-4233-ba2d-12efc5a848c9",
   "metadata": {},
   "outputs": [],
   "source": []
  }
 ],
 "metadata": {
  "colab": {
   "provenance": []
  },
  "kernelspec": {
   "display_name": "Python 3 (ipykernel)",
   "language": "python",
   "name": "python3"
  },
  "language_info": {
   "codemirror_mode": {
    "name": "ipython",
    "version": 3
   },
   "file_extension": ".py",
   "mimetype": "text/x-python",
   "name": "python",
   "nbconvert_exporter": "python",
   "pygments_lexer": "ipython3",
   "version": "3.12.1"
  }
 },
 "nbformat": 4,
 "nbformat_minor": 5
}
